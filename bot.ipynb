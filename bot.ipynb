{
  "nbformat": 4,
  "nbformat_minor": 0,
  "metadata": {
    "colab": {
      "name": "bot.ipynb",
      "provenance": [],
      "toc_visible": true
    },
    "kernelspec": {
      "name": "python3",
      "display_name": "Python 3"
    }
  },
  "cells": [
    {
      "cell_type": "code",
      "metadata": {
        "id": "3hjO4ptffYaq",
        "colab_type": "code",
        "colab": {}
      },
      "source": [
        "import pandas as pd\n"
      ],
      "execution_count": 0,
      "outputs": []
    },
    {
      "cell_type": "code",
      "metadata": {
        "id": "Q5I3ABdLf9lu",
        "colab_type": "code",
        "colab": {}
      },
      "source": [
        "data=pd.read_csv('scrap.csv')"
      ],
      "execution_count": 0,
      "outputs": []
    },
    {
      "cell_type": "code",
      "metadata": {
        "id": "K-ggfDYIgBt7",
        "colab_type": "code",
        "outputId": "c4b2aa11-b3f6-4686-bc2f-5bce18a7f98e",
        "colab": {
          "base_uri": "https://localhost:8080/",
          "height": 85
        }
      },
      "source": [
        "data.iloc[2]"
      ],
      "execution_count": 0,
      "outputs": [
        {
          "output_type": "execute_result",
          "data": {
            "text/plain": [
              "Unnamed: 0                                                    2\n",
              "title         [Chronically depressed 3+ years] I feel pathet...\n",
              "response      It’s nice when people give us compliments. We ...\n",
              "Name: 2, dtype: object"
            ]
          },
          "metadata": {
            "tags": []
          },
          "execution_count": 3
        }
      ]
    },
    {
      "cell_type": "code",
      "metadata": {
        "id": "3fZdqtn3gDpE",
        "colab_type": "code",
        "colab": {}
      },
      "source": [
        "from difflib import get_close_matches"
      ],
      "execution_count": 0,
      "outputs": []
    },
    {
      "cell_type": "code",
      "metadata": {
        "id": "NsYRJvzKg7Yl",
        "colab_type": "code",
        "colab": {}
      },
      "source": [
        "pattern=list(data['title'])"
      ],
      "execution_count": 0,
      "outputs": []
    },
    {
      "cell_type": "code",
      "metadata": {
        "id": "SkQ2NFophJ09",
        "colab_type": "code",
        "outputId": "40e7a10d-92a4-404b-d100-e24ffaad5986",
        "colab": {
          "base_uri": "https://localhost:8080/",
          "height": 34
        }
      },
      "source": [
        "inp='pathetic'\n",
        "get_close_matches(inp,pattern)\n",
        "#this cell is useless"
      ],
      "execution_count": 0,
      "outputs": [
        {
          "output_type": "execute_result",
          "data": {
            "text/plain": [
              "['I feel pathetic']"
            ]
          },
          "metadata": {
            "tags": []
          },
          "execution_count": 6
        }
      ]
    },
    {
      "cell_type": "code",
      "metadata": {
        "id": "XSL_DkPAhUm1",
        "colab_type": "code",
        "colab": {}
      },
      "source": [
        ""
      ],
      "execution_count": 0,
      "outputs": []
    },
    {
      "cell_type": "code",
      "metadata": {
        "id": "STguqeJKinuD",
        "colab_type": "code",
        "colab": {}
      },
      "source": [
        "from difflib import SequenceMatcher\n",
        "from heapq import nlargest as _nlargest\n",
        "\n",
        "def get_close_matches_indexes(word, possibilities, n=3, cutoff=0.6):\n",
        "\n",
        "    if not n >  0:\n",
        "        raise ValueError(\"n must be > 0: %r\" % (n,))\n",
        "    if not 0.0 <= cutoff <= 1.0:\n",
        "        raise ValueError(\"cutoff must be in [0.0, 1.0]: %r\" % (cutoff,))\n",
        "    result = []\n",
        "    s = SequenceMatcher()\n",
        "    s.set_seq2(word)\n",
        "    for idx, x in enumerate(possibilities):\n",
        "        s.set_seq1(x)\n",
        "        if s.real_quick_ratio() >= cutoff and \\\n",
        "           s.quick_ratio() >= cutoff and \\\n",
        "           s.ratio() >= cutoff:\n",
        "            result.append((s.ratio(), idx))\n",
        "\n",
        "    result = _nlargest(n, result)\n",
        "\n",
        "    return [x for score, x in result]"
      ],
      "execution_count": 0,
      "outputs": []
    },
    {
      "cell_type": "code",
      "metadata": {
        "id": "SVWTInF8io6t",
        "colab_type": "code",
        "outputId": "00a772f0-8c64-4ed3-e9ce-fb00928b4851",
        "colab": {
          "base_uri": "https://localhost:8080/",
          "height": 51
        }
      },
      "source": [
        "c=get_close_matches_indexes(inp, pattern)\n",
        "print(data.loc[c]['response'])"
      ],
      "execution_count": 0,
      "outputs": [
        {
          "output_type": "stream",
          "text": [
            "4491    You're not pathetic, even if you feel that way...\n",
            "Name: response, dtype: object\n"
          ],
          "name": "stdout"
        }
      ]
    },
    {
      "cell_type": "code",
      "metadata": {
        "id": "qnHURieDiyEZ",
        "colab_type": "code",
        "colab": {}
      },
      "source": [
        ""
      ],
      "execution_count": 0,
      "outputs": []
    }
  ]
}